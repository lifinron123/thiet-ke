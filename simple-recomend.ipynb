{
 "cells": [
  {
   "cell_type": "code",
   "execution_count": 9,
   "metadata": {},
   "outputs": [],
   "source": [
    "import os\n",
    "import numpy as np\n",
    "import pandas as pd\n",
    "\n",
    "from sklearn.feature_extraction.text import TfidfVectorizer, CountVectorizer\n",
    "from sklearn.metrics.pairwise import cosine_similarity"
   ]
  },
  {
   "cell_type": "code",
   "execution_count": 11,
   "metadata": {},
   "outputs": [
    {
     "ename": "SyntaxError",
     "evalue": "(unicode error) 'unicodeescape' codec can't decode bytes in position 2-3: truncated \\UXXXXXXXX escape (569113892.py, line 1)",
     "output_type": "error",
     "traceback": [
      "\u001b[1;36m  Cell \u001b[1;32mIn[11], line 1\u001b[1;36m\u001b[0m\n\u001b[1;33m    anime = pd.read_csv('C:\\Users\\Admin\\Downloads\\anime.csv')\u001b[0m\n\u001b[1;37m                        ^\u001b[0m\n\u001b[1;31mSyntaxError\u001b[0m\u001b[1;31m:\u001b[0m (unicode error) 'unicodeescape' codec can't decode bytes in position 2-3: truncated \\UXXXXXXXX escape\n"
     ]
    }
   ],
   "source": [
    "anime = pd.read_csv('C:\\Users\\Admin\\Downloads\\anime.csv')\n",
    "des = pd.read_csv('anime_with_synopsis.csv')\n",
    "anime.head(5)\n",
    "des.head(5)"
   ]
  },
  {
   "cell_type": "markdown",
   "metadata": {},
   "source": [
    "+**merge anime vs des**\n",
    "+**keep imp col**"
   ]
  },
  {
   "cell_type": "code",
   "execution_count": 43,
   "metadata": {},
   "outputs": [
    {
     "data": {
      "text/html": [
       "<div>\n",
       "<style scoped>\n",
       "    .dataframe tbody tr th:only-of-type {\n",
       "        vertical-align: middle;\n",
       "    }\n",
       "\n",
       "    .dataframe tbody tr th {\n",
       "        vertical-align: top;\n",
       "    }\n",
       "\n",
       "    .dataframe thead th {\n",
       "        text-align: right;\n",
       "    }\n",
       "</style>\n",
       "<table border=\"1\" class=\"dataframe\">\n",
       "  <thead>\n",
       "    <tr style=\"text-align: right;\">\n",
       "      <th></th>\n",
       "      <th>MAL_ID</th>\n",
       "      <th>Name</th>\n",
       "      <th>Score</th>\n",
       "      <th>Genres</th>\n",
       "      <th>Type</th>\n",
       "      <th>Episodes</th>\n",
       "      <th>Premiered</th>\n",
       "      <th>sypnopsis</th>\n",
       "    </tr>\n",
       "  </thead>\n",
       "  <tbody>\n",
       "    <tr>\n",
       "      <th>0</th>\n",
       "      <td>1</td>\n",
       "      <td>Cowboy Bebop</td>\n",
       "      <td>8.78</td>\n",
       "      <td>Action, Adventure, Comedy, Drama, Sci-Fi, Space</td>\n",
       "      <td>TV</td>\n",
       "      <td>26</td>\n",
       "      <td>Spring 1998</td>\n",
       "      <td>In the year 2071, humanity has colonized sever...</td>\n",
       "    </tr>\n",
       "    <tr>\n",
       "      <th>1</th>\n",
       "      <td>5</td>\n",
       "      <td>Cowboy Bebop: Tengoku no Tobira</td>\n",
       "      <td>8.39</td>\n",
       "      <td>Action, Drama, Mystery, Sci-Fi, Space</td>\n",
       "      <td>Movie</td>\n",
       "      <td>1</td>\n",
       "      <td>Unknown</td>\n",
       "      <td>other day, another bounty—such is the life of ...</td>\n",
       "    </tr>\n",
       "    <tr>\n",
       "      <th>2</th>\n",
       "      <td>6</td>\n",
       "      <td>Trigun</td>\n",
       "      <td>8.24</td>\n",
       "      <td>Action, Sci-Fi, Adventure, Comedy, Drama, Shounen</td>\n",
       "      <td>TV</td>\n",
       "      <td>26</td>\n",
       "      <td>Spring 1998</td>\n",
       "      <td>Vash the Stampede is the man with a $$60,000,0...</td>\n",
       "    </tr>\n",
       "    <tr>\n",
       "      <th>3</th>\n",
       "      <td>7</td>\n",
       "      <td>Witch Hunter Robin</td>\n",
       "      <td>7.27</td>\n",
       "      <td>Action, Mystery, Police, Supernatural, Drama, ...</td>\n",
       "      <td>TV</td>\n",
       "      <td>26</td>\n",
       "      <td>Summer 2002</td>\n",
       "      <td>ches are individuals with special powers like ...</td>\n",
       "    </tr>\n",
       "    <tr>\n",
       "      <th>4</th>\n",
       "      <td>8</td>\n",
       "      <td>Bouken Ou Beet</td>\n",
       "      <td>6.98</td>\n",
       "      <td>Adventure, Fantasy, Shounen, Supernatural</td>\n",
       "      <td>TV</td>\n",
       "      <td>52</td>\n",
       "      <td>Fall 2004</td>\n",
       "      <td>It is the dark century and the people are suff...</td>\n",
       "    </tr>\n",
       "  </tbody>\n",
       "</table>\n",
       "</div>"
      ],
      "text/plain": [
       "   MAL_ID                             Name Score  \\\n",
       "0       1                     Cowboy Bebop  8.78   \n",
       "1       5  Cowboy Bebop: Tengoku no Tobira  8.39   \n",
       "2       6                           Trigun  8.24   \n",
       "3       7               Witch Hunter Robin  7.27   \n",
       "4       8                   Bouken Ou Beet  6.98   \n",
       "\n",
       "                                              Genres   Type Episodes  \\\n",
       "0    Action, Adventure, Comedy, Drama, Sci-Fi, Space     TV       26   \n",
       "1              Action, Drama, Mystery, Sci-Fi, Space  Movie        1   \n",
       "2  Action, Sci-Fi, Adventure, Comedy, Drama, Shounen     TV       26   \n",
       "3  Action, Mystery, Police, Supernatural, Drama, ...     TV       26   \n",
       "4          Adventure, Fantasy, Shounen, Supernatural     TV       52   \n",
       "\n",
       "     Premiered                                          sypnopsis  \n",
       "0  Spring 1998  In the year 2071, humanity has colonized sever...  \n",
       "1      Unknown  other day, another bounty—such is the life of ...  \n",
       "2  Spring 1998  Vash the Stampede is the man with a $$60,000,0...  \n",
       "3  Summer 2002  ches are individuals with special powers like ...  \n",
       "4    Fall 2004  It is the dark century and the people are suff...  "
      ]
     },
     "execution_count": 43,
     "metadata": {},
     "output_type": "execute_result"
    }
   ],
   "source": [
    "anime = anime.merge(des,on=['MAL_ID','Name','Score','Genres'])\n",
    "anime = anime[['MAL_ID','Name','Score','Genres','Type','Episodes','Premiered','sypnopsis']]\n",
    "anime.head(5)"
   ]
  },
  {
   "cell_type": "markdown",
   "metadata": {},
   "source": [
    "**tien xu ly**"
   ]
  },
  {
   "cell_type": "code",
   "execution_count": 44,
   "metadata": {},
   "outputs": [
    {
     "data": {
      "text/plain": [
       "0"
      ]
     },
     "execution_count": 44,
     "metadata": {},
     "output_type": "execute_result"
    }
   ],
   "source": [
    "anime.isnull().sum()\n",
    "anime.dropna(inplace=True)\n",
    "anime.isnull().sum()\n",
    "anime.shape\n",
    "anime.duplicated().sum()"
   ]
  },
  {
   "cell_type": "markdown",
   "metadata": {},
   "source": [
    "**Building**\n",
    "+ *Name, des* : dùng tf_idf để xác định xem những cụm từ nào có liên quan (hoặc không liên quan) về mặt chủ đề bằng cách phân tích tần suất một cụm từ xuất hiện trên một trang và tần suất ước tính xuất hiện trên một trang trung bình, trong một tập hợp lớn hơn bao gồm nhiều tài liệu\n",
    "+ *Genres* : dùng Count Freq để chuyển một văn bản nhất định thành một vectơ trên cơ sở tần suất (số lượng (count)) của mỗi từ xuất hiện trong toàn bộ văn bản"
   ]
  },
  {
   "cell_type": "code",
   "execution_count": 45,
   "metadata": {},
   "outputs": [],
   "source": [
    "# incides dùng để spot tên anime\n",
    "indices = pd.Series(anime.index, index = anime['Name'])"
   ]
  },
  {
   "cell_type": "code",
   "execution_count": 46,
   "metadata": {},
   "outputs": [],
   "source": [
    "tfidf = TfidfVectorizer(stop_words='english')\n",
    "tfidf2 = TfidfVectorizer(stop_words='english')\n",
    "count = CountVectorizer(stop_words='english')"
   ]
  },
  {
   "cell_type": "markdown",
   "metadata": {},
   "source": [
    "+ *đưa vào ma trận để tính cosine similarity* "
   ]
  },
  {
   "cell_type": "code",
   "execution_count": 47,
   "metadata": {},
   "outputs": [],
   "source": [
    "tfidf_matrix = tfidf.fit_transform(anime['Name'])\n",
    "count_matrix = count.fit_transform(anime['Genres'])\n",
    "tfidf2_matrix = tfidf2.fit_transform(anime['sypnopsis'])"
   ]
  },
  {
   "cell_type": "code",
   "execution_count": 48,
   "metadata": {},
   "outputs": [],
   "source": [
    "name_similarity = cosine_similarity(tfidf_matrix)\n",
    "genre_similarity = cosine_similarity(count_matrix)\n",
    "synopsis_similarity = cosine_similarity(tfidf2_matrix)"
   ]
  },
  {
   "cell_type": "markdown",
   "metadata": {},
   "source": [
    "**tạo hàm**"
   ]
  },
  {
   "cell_type": "code",
   "execution_count": 49,
   "metadata": {},
   "outputs": [],
   "source": [
    "def get_recommendations(anime):\n",
    "    i = indices[anime]\n",
    "    # tạo list\n",
    "    name_score = list(enumerate(name_similarity[i]))\n",
    "    genre_score = list(enumerate(genre_similarity[i]))\n",
    "    synopsis_score = list(enumerate(synopsis_similarity[i]))\n",
    "    # sắp xếp theo thứ tự tăng dần của chỉ số.\n",
    "    name_score = sorted(name_score, key=lambda x: x[0])\n",
    "    genre_score = sorted(genre_score, key=lambda x: x[0])\n",
    "    synopsis_score = sorted(synopsis_score, key=lambda x: x[0])\n",
    "    # độ chính xác = avg score\n",
    "    combined_score = [(i, (sc_1 + sc_2 + sc_3) / 3) for (i, sc_1), (_, sc_2), (_, sc_3) in zip(name_score, genre_score, synopsis_score)]\n",
    "    # sắp xếp theo độ chính xác\n",
    "    combined_score = sorted(combined_score, key=lambda x: x[1], reverse=True)\n",
    "    \n",
    "    anime_ids = [i[0] for i in combined_score[1:11]]\n",
    "    anime_recs = []\n",
    "    # check anime lưu vào anime_recs\n",
    "    index = 0\n",
    "    while len(anime_recs) != 10:\n",
    "        anime_id = combined_score[1:][index][0]\n",
    "        index += 1\n",
    "        if anime in indices.iloc[[anime_id]].index[0]:\n",
    "            continue\n",
    "        else:\n",
    "            anime_recs.append(indices.iloc[[anime_id]].index[0])\n",
    "    # output\n",
    "    recommendations = pd.DataFrame({\n",
    "        \"Anime\": anime_recs,\n",
    "        \"Similarity\": [combined_score[i][1] for i in range(1, 11)]\n",
    "    })\n",
    "\n",
    "    return recommendations"
   ]
  },
  {
   "cell_type": "code",
   "execution_count": 52,
   "metadata": {},
   "outputs": [
    {
     "data": {
      "text/html": [
       "<div>\n",
       "<style scoped>\n",
       "    .dataframe tbody tr th:only-of-type {\n",
       "        vertical-align: middle;\n",
       "    }\n",
       "\n",
       "    .dataframe tbody tr th {\n",
       "        vertical-align: top;\n",
       "    }\n",
       "\n",
       "    .dataframe thead th {\n",
       "        text-align: right;\n",
       "    }\n",
       "</style>\n",
       "<table border=\"1\" class=\"dataframe\">\n",
       "  <thead>\n",
       "    <tr style=\"text-align: right;\">\n",
       "      <th></th>\n",
       "      <th>Anime</th>\n",
       "      <th>Similarity</th>\n",
       "    </tr>\n",
       "  </thead>\n",
       "  <tbody>\n",
       "    <tr>\n",
       "      <th>0</th>\n",
       "      <td>Boruto: Jump Festa 2016 Special</td>\n",
       "      <td>0.674166</td>\n",
       "    </tr>\n",
       "    <tr>\n",
       "      <th>1</th>\n",
       "      <td>Dragon Ball GT: Gokuu Gaiden! Yuuki no Akashi ...</td>\n",
       "      <td>0.625837</td>\n",
       "    </tr>\n",
       "    <tr>\n",
       "      <th>2</th>\n",
       "      <td>Dragon Ball Z: Summer Vacation Special</td>\n",
       "      <td>0.605111</td>\n",
       "    </tr>\n",
       "    <tr>\n",
       "      <th>3</th>\n",
       "      <td>Rekka no Honoo</td>\n",
       "      <td>0.601149</td>\n",
       "    </tr>\n",
       "    <tr>\n",
       "      <th>4</th>\n",
       "      <td>Dragon Ball Z</td>\n",
       "      <td>0.583702</td>\n",
       "    </tr>\n",
       "    <tr>\n",
       "      <th>5</th>\n",
       "      <td>Dragon Ball Kai</td>\n",
       "      <td>0.577870</td>\n",
       "    </tr>\n",
       "    <tr>\n",
       "      <th>6</th>\n",
       "      <td>Dragon Ball Z: Atsumare! Gokuu World</td>\n",
       "      <td>0.558173</td>\n",
       "    </tr>\n",
       "    <tr>\n",
       "      <th>7</th>\n",
       "      <td>Dragon Ball Z Movie 15: Fukkatsu no \"F\"</td>\n",
       "      <td>0.541824</td>\n",
       "    </tr>\n",
       "    <tr>\n",
       "      <th>8</th>\n",
       "      <td>Dragon Ball Super</td>\n",
       "      <td>0.534807</td>\n",
       "    </tr>\n",
       "    <tr>\n",
       "      <th>9</th>\n",
       "      <td>Dragon Ball Z Movie 11: Super Senshi Gekiha!! ...</td>\n",
       "      <td>0.532657</td>\n",
       "    </tr>\n",
       "  </tbody>\n",
       "</table>\n",
       "</div>"
      ],
      "text/plain": [
       "                                               Anime  Similarity\n",
       "0                    Boruto: Jump Festa 2016 Special    0.674166\n",
       "1  Dragon Ball GT: Gokuu Gaiden! Yuuki no Akashi ...    0.625837\n",
       "2             Dragon Ball Z: Summer Vacation Special    0.605111\n",
       "3                                     Rekka no Honoo    0.601149\n",
       "4                                      Dragon Ball Z    0.583702\n",
       "5                                    Dragon Ball Kai    0.577870\n",
       "6               Dragon Ball Z: Atsumare! Gokuu World    0.558173\n",
       "7            Dragon Ball Z Movie 15: Fukkatsu no \"F\"    0.541824\n",
       "8                                  Dragon Ball Super    0.534807\n",
       "9  Dragon Ball Z Movie 11: Super Senshi Gekiha!! ...    0.532657"
      ]
     },
     "execution_count": 52,
     "metadata": {},
     "output_type": "execute_result"
    }
   ],
   "source": [
    "get_recommendations('Naruto')"
   ]
  }
 ],
 "metadata": {
  "kernelspec": {
   "display_name": "Python 3",
   "language": "python",
   "name": "python3"
  },
  "language_info": {
   "codemirror_mode": {
    "name": "ipython",
    "version": 3
   },
   "file_extension": ".py",
   "mimetype": "text/x-python",
   "name": "python",
   "nbconvert_exporter": "python",
   "pygments_lexer": "ipython3",
   "version": "3.12.0"
  }
 },
 "nbformat": 4,
 "nbformat_minor": 2
}
